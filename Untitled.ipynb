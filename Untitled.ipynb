{
 "cells": [
  {
   "cell_type": "code",
   "execution_count": 41,
   "id": "00d952ae-f35b-4360-bf00-8344ad3ad43d",
   "metadata": {},
   "outputs": [
    {
     "ename": "TclError",
     "evalue": "image \"pyimage27\" doesn't exist",
     "output_type": "error",
     "traceback": [
      "\u001b[1;31m---------------------------------------------------------------------------\u001b[0m",
      "\u001b[1;31mTclError\u001b[0m                                  Traceback (most recent call last)",
      "Cell \u001b[1;32mIn[41], line 18\u001b[0m\n\u001b[0;32m     14\u001b[0m dice \u001b[38;5;241m=\u001b[39m [\u001b[38;5;124m\"\u001b[39m\u001b[38;5;124mdice1.png\u001b[39m\u001b[38;5;124m\"\u001b[39m,\u001b[38;5;124m\"\u001b[39m\u001b[38;5;124mdice2.png\u001b[39m\u001b[38;5;124m\"\u001b[39m,\u001b[38;5;124m\"\u001b[39m\u001b[38;5;124mdice3.png\u001b[39m\u001b[38;5;124m\"\u001b[39m,\u001b[38;5;124m\"\u001b[39m\u001b[38;5;124mdice4.png\u001b[39m\u001b[38;5;124m\"\u001b[39m,\u001b[38;5;124m\"\u001b[39m\u001b[38;5;124mdice5.png\u001b[39m\u001b[38;5;124m\"\u001b[39m,\u001b[38;5;124m\"\u001b[39m\u001b[38;5;124mdice6.png\u001b[39m\u001b[38;5;124m\"\u001b[39m]\n\u001b[0;32m     16\u001b[0m image1 \u001b[38;5;241m=\u001b[39m ImageTk\u001b[38;5;241m.\u001b[39mPhotoImage(Image\u001b[38;5;241m.\u001b[39mopen(random\u001b[38;5;241m.\u001b[39mchoice(dice)))\n\u001b[1;32m---> 18\u001b[0m label1 \u001b[38;5;241m=\u001b[39m \u001b[43mtk\u001b[49m\u001b[38;5;241;43m.\u001b[39;49m\u001b[43mLabel\u001b[49m\u001b[43m(\u001b[49m\u001b[43mwindow\u001b[49m\u001b[43m,\u001b[49m\u001b[43m \u001b[49m\u001b[43mimage\u001b[49m\u001b[43m \u001b[49m\u001b[38;5;241;43m=\u001b[39;49m\u001b[43m \u001b[49m\u001b[43mimage1\u001b[49m\u001b[43m)\u001b[49m\u001b[38;5;241m.\u001b[39mpack()\n\u001b[0;32m     20\u001b[0m label1\u001b[38;5;241m.\u001b[39mimage\u001b[38;5;241m=\u001b[39mimage1\n\u001b[0;32m     22\u001b[0m label1\u001b[38;5;241m.\u001b[39mplace(x \u001b[38;5;241m=\u001b[39m \u001b[38;5;241m150\u001b[39m, y \u001b[38;5;241m=\u001b[39m \u001b[38;5;241m100\u001b[39m)\n",
      "File \u001b[1;32mc:\\python\\python38\\lib\\tkinter\\__init__.py:3148\u001b[0m, in \u001b[0;36mLabel.__init__\u001b[1;34m(self, master, cnf, **kw)\u001b[0m\n\u001b[0;32m   3130\u001b[0m \u001b[38;5;28;01mdef\u001b[39;00m \u001b[38;5;21m__init__\u001b[39m(\u001b[38;5;28mself\u001b[39m, master\u001b[38;5;241m=\u001b[39m\u001b[38;5;28;01mNone\u001b[39;00m, cnf\u001b[38;5;241m=\u001b[39m{}, \u001b[38;5;241m*\u001b[39m\u001b[38;5;241m*\u001b[39mkw):\n\u001b[0;32m   3131\u001b[0m \u001b[38;5;250m    \u001b[39m\u001b[38;5;124;03m\"\"\"Construct a label widget with the parent MASTER.\u001b[39;00m\n\u001b[0;32m   3132\u001b[0m \n\u001b[0;32m   3133\u001b[0m \u001b[38;5;124;03m    STANDARD OPTIONS\u001b[39;00m\n\u001b[1;32m   (...)\u001b[0m\n\u001b[0;32m   3146\u001b[0m \n\u001b[0;32m   3147\u001b[0m \u001b[38;5;124;03m    \"\"\"\u001b[39;00m\n\u001b[1;32m-> 3148\u001b[0m     \u001b[43mWidget\u001b[49m\u001b[38;5;241;43m.\u001b[39;49m\u001b[38;5;21;43m__init__\u001b[39;49m\u001b[43m(\u001b[49m\u001b[38;5;28;43mself\u001b[39;49m\u001b[43m,\u001b[49m\u001b[43m \u001b[49m\u001b[43mmaster\u001b[49m\u001b[43m,\u001b[49m\u001b[43m \u001b[49m\u001b[38;5;124;43m'\u001b[39;49m\u001b[38;5;124;43mlabel\u001b[39;49m\u001b[38;5;124;43m'\u001b[39;49m\u001b[43m,\u001b[49m\u001b[43m \u001b[49m\u001b[43mcnf\u001b[49m\u001b[43m,\u001b[49m\u001b[43m \u001b[49m\u001b[43mkw\u001b[49m\u001b[43m)\u001b[49m\n",
      "File \u001b[1;32mc:\\python\\python38\\lib\\tkinter\\__init__.py:2572\u001b[0m, in \u001b[0;36mBaseWidget.__init__\u001b[1;34m(self, master, widgetName, cnf, kw, extra)\u001b[0m\n\u001b[0;32m   2570\u001b[0m \u001b[38;5;28;01mfor\u001b[39;00m k, v \u001b[38;5;129;01min\u001b[39;00m classes:\n\u001b[0;32m   2571\u001b[0m     \u001b[38;5;28;01mdel\u001b[39;00m cnf[k]\n\u001b[1;32m-> 2572\u001b[0m \u001b[38;5;28;43mself\u001b[39;49m\u001b[38;5;241;43m.\u001b[39;49m\u001b[43mtk\u001b[49m\u001b[38;5;241;43m.\u001b[39;49m\u001b[43mcall\u001b[49m\u001b[43m(\u001b[49m\n\u001b[0;32m   2573\u001b[0m \u001b[43m    \u001b[49m\u001b[43m(\u001b[49m\u001b[43mwidgetName\u001b[49m\u001b[43m,\u001b[49m\u001b[43m \u001b[49m\u001b[38;5;28;43mself\u001b[39;49m\u001b[38;5;241;43m.\u001b[39;49m\u001b[43m_w\u001b[49m\u001b[43m)\u001b[49m\u001b[43m \u001b[49m\u001b[38;5;241;43m+\u001b[39;49m\u001b[43m \u001b[49m\u001b[43mextra\u001b[49m\u001b[43m \u001b[49m\u001b[38;5;241;43m+\u001b[39;49m\u001b[43m \u001b[49m\u001b[38;5;28;43mself\u001b[39;49m\u001b[38;5;241;43m.\u001b[39;49m\u001b[43m_options\u001b[49m\u001b[43m(\u001b[49m\u001b[43mcnf\u001b[49m\u001b[43m)\u001b[49m\u001b[43m)\u001b[49m\n\u001b[0;32m   2574\u001b[0m \u001b[38;5;28;01mfor\u001b[39;00m k, v \u001b[38;5;129;01min\u001b[39;00m classes:\n\u001b[0;32m   2575\u001b[0m     k\u001b[38;5;241m.\u001b[39mconfigure(\u001b[38;5;28mself\u001b[39m, v)\n",
      "\u001b[1;31mTclError\u001b[0m: image \"pyimage27\" doesn't exist"
     ]
    }
   ],
   "source": [
    "import random\n",
    "import tkinter as tk\n",
    "from PIL import Image,ImageTk\n",
    "\n",
    "window = tk.Tk()\n",
    "window.geometry(\"500x360\")\n",
    "window.title(\"Dice Roll\") \n",
    "# def roll_dice():\n",
    "#     a = random.randint(1,6)\n",
    "#     label = tk.Label(window, text = a).pack()\n",
    "\n",
    "# button = tk.Button(window, text = \"Click\", command=roll_dice)\n",
    "# button.pack()\n",
    "dice = [\"dice1.png\",\"dice2.png\",\"dice3.png\",\"dice4.png\",\"dice5.png\",\"dice6.png\"]\n",
    "\n",
    "image1 = ImageTk.PhotoImage(Image.open(random.choice(dice)))\n",
    "\n",
    "label1 = tk.Label(window, image = image1).pack()\n",
    "\n",
    "label1.image=image1\n",
    "\n",
    "label1.place(x = 150, y = 100)\n",
    "\n",
    "\n",
    "def roll_dice():\n",
    "    image1 = ImageTk.photoImage(Image.open(random.choice(dice)))\n",
    "    label1.configure(image = image1)\n",
    "    label1.image=image\n",
    "    \n",
    "    \n",
    "\n",
    "\n",
    "button = tk.Button(window, text = \"ROLL\", bg=\"green\", fg=\"red\", command=roll_dice)\n",
    "button.place(x = 280, y = 10)\n",
    "button.pack()\n",
    "window.mainloop()"
   ]
  },
  {
   "cell_type": "code",
   "execution_count": 47,
   "id": "c8e72dbc-7b81-414b-90ad-47c8ae3867a0",
   "metadata": {},
   "outputs": [],
   "source": [
    "import random\n",
    "import tkinter as tk\n",
    "from PIL import Image,ImageTk\n",
    "\n",
    "window = tk.Tk()\n",
    "window.geometry(\"500x360\")\n",
    "window.title(\"Dice Roll\") \n",
    "def roll_dice():\n",
    "     a = random.randint(1,6)\n",
    "   \n",
    "     label = tk.Label(window, text = a).pack()\n",
    "\n",
    "button = tk.Button(window, text = \"Click\", command=roll_dice)\n",
    "button.pack()\n",
    "window.mainloop()"
   ]
  },
  {
   "cell_type": "code",
   "execution_count": 70,
   "id": "29556ac4-118b-402b-893a-aed4dabfdc3d",
   "metadata": {},
   "outputs": [],
   "source": [
    "import random\n",
    "import tkinter as tk\n",
    "from PIL import Image, ImageTk\n",
    "\n",
    "window = tk.Tk()\n",
    "window.geometry(\"500x360\")\n",
    "window.title(\"Dice Roll\")\n",
    "\n",
    "def roll_dice():\n",
    "    # Generate a random number between 1 and 6\n",
    "    dice_number = random.randint(1, 6)\n",
    "\n",
    "    # Generate a random suffix (a or b) for multiple images of each face\n",
    "    # suffix = random.choice(['a', 'b'])\n",
    "\n",
    "    # Load the corresponding image based on the dice number and suffix\n",
    "    image_path = f'dice_images/dice{dice_number}.png'\n",
    "    img = Image.open(image_path).resize((150, 150), Image.LANCZOS)\n",
    "    img = ImageTk.PhotoImage(img)\n",
    "\n",
    "    # Update the label with the new image\n",
    "    label.config(image=img)\n",
    "    label.image = img\n",
    "    label.place(x = 180, y = 50)\n",
    "\n",
    "# Create a label to display the dice image\n",
    "label = tk.Label(window)\n",
    "\n",
    "label.pack()\n",
    "\n",
    "# Create a button to roll the dice\n",
    "button = tk.Button(window, text=\"Roll Dice\", bg=\"green\", fg=\"white\", command=roll_dice)\n",
    "button.place(x = 280, y = 0)\n",
    "button.pack()\n",
    "\n",
    "window.mainloop()\n",
    "\n"
   ]
  },
  {
   "cell_type": "code",
   "execution_count": null,
   "id": "4d07ddc7-3aec-4500-9c85-b308a05aa75f",
   "metadata": {},
   "outputs": [],
   "source": []
  }
 ],
 "metadata": {
  "kernelspec": {
   "display_name": "Python 3 (ipykernel)",
   "language": "python",
   "name": "python3"
  },
  "language_info": {
   "codemirror_mode": {
    "name": "ipython",
    "version": 3
   },
   "file_extension": ".py",
   "mimetype": "text/x-python",
   "name": "python",
   "nbconvert_exporter": "python",
   "pygments_lexer": "ipython3",
   "version": "3.8.10"
  }
 },
 "nbformat": 4,
 "nbformat_minor": 5
}
